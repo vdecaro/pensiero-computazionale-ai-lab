{
  "nbformat": 4,
  "nbformat_minor": 0,
  "metadata": {
    "colab": {
      "name": "0_motivations_with_regression.ipynb",
      "provenance": [],
      "authorship_tag": "ABX9TyPPEFYEoIG1WUWgHXyKOMmr"
    },
    "kernelspec": {
      "name": "python3",
      "display_name": "Python 3"
    },
    "language_info": {
      "name": "python"
    }
  },
  "cells": [
    {
      "cell_type": "markdown",
      "metadata": {
        "id": "mEt4TjxlqMQ-"
      },
      "source": [
        "# Tutorial overview\n",
        "\n",
        "In questo primo notebook è mostreremo quali sono le funzionalità che vanno implementate \"under the hood\" in un semplice modello di Machine Learning: la regressione lineare.\n",
        "\n",
        "## Tematiche\n",
        "In questo tutorial:\n",
        "1. Vedremo in che modo importare e visualizzare i dati necessari per il training;\n",
        "2. Implementeremo tutte le funzionalità di una regressione lineare;\n",
        "3. Implementeremo un metodo di ottimizzazione per il modello;\n",
        "3. Alleneremo il modello di regressione sui dati;\n",
        "4. Visualizzeremo il risultato del training.\n",
        "\n",
        "Le librerie che utilizzeremo sono:\n",
        "1. `pandas` per l'import e la visualizzazione delle statistiche dei dati (una specie di excel versione python);\n",
        "2. `numpy`, una libreria che supporta il calcolo con matrici, array e tensori, per la parte di calcolo scientifico coinvolta nella definizione della regressione lineare;\n",
        "3. `matplotlib` per la visualizzazione dei grafici. \n",
        "\n",
        "## Caso d'uso\n",
        "Questo task lo eseguiremo sul dataset [California Housing Prices](https://www.kaggle.com/camnugent/california-housing-prices), nel quale vengono fornite diverse caratteristiche quali metratura dell'immobile, anno di costruzione, numero di piani, anno di eventuali ristrutturazioni e molte altre. \n",
        "\n",
        "L'**obiettivo** sarà quello di predire il prezzo di vendita di una casa a partire dalle features sopra descritte.\n",
        "\n",
        "\n",
        "## Perché questo tutorial?\n",
        "L'intenzione di questo tutorial è quella di mostrare a che livelli di complessità di può arrivare anche con un task molto semplice, e le ragioni per cui dobbiamo utilizzare strumenti più \"potenti\". 😀"
      ]
    },
    {
      "cell_type": "markdown",
      "metadata": {
        "id": "dz1Ecej052dd"
      },
      "source": [
        "# Un po' di burocrazia..."
      ]
    },
    {
      "cell_type": "markdown",
      "metadata": {
        "id": "R-aAll4d57cz"
      },
      "source": [
        "Importiamo le librerie e settiamo alcuni parametri che saranno utili successivamente."
      ]
    },
    {
      "cell_type": "code",
      "metadata": {
        "id": "FHfNwX4UqFUp"
      },
      "source": [
        "import numpy as np\n",
        "import pandas as pd\n",
        "import seaborn as sns\n",
        "from pylab import rcParams\n",
        "from matplotlib import rc\n",
        "import matplotlib.pyplot as plt\n",
        "import matplotlib.animation as animation\n",
        "import unittest\n",
        "\n",
        "%matplotlib inline\n",
        "sns.set(style='whitegrid', palette='muted', font_scale=1.5)\n",
        "rcParams['figure.figsize'] = 14, 8\n",
        "rcParams['animation.embed_limit'] = 2**128\n",
        "\n",
        "RANDOM_SEED = 42\n",
        "np.random.seed(RANDOM_SEED)"
      ],
      "execution_count": 1,
      "outputs": []
    },
    {
      "cell_type": "markdown",
      "metadata": {
        "id": "xMNC6HS36fO9"
      },
      "source": [
        "# Lavoriamo col dataset"
      ]
    },
    {
      "cell_type": "markdown",
      "metadata": {
        "id": "5s36vLw05svk"
      },
      "source": [
        "Il primo passo, ovviamente, è il **download** del dataset. \n",
        "\n",
        "Colab, e in generale i Jupyter Notebooks, offrono la possibilità di utilizzare comandi della bash inserendo `!` prima della riga di codice."
      ]
    },
    {
      "cell_type": "code",
      "metadata": {
        "colab": {
          "base_uri": "https://localhost:8080/"
        },
        "id": "dEKwni7I6TOw",
        "outputId": "a3d0745a-f6a1-405c-8373-4a258944d809"
      },
      "source": [
        "! wget https://raw.githubusercontent.com/Data-Science-FMI/ml-from-scratch-2019/master/data/house_prices_train.csv"
      ],
      "execution_count": 3,
      "outputs": [
        {
          "output_type": "stream",
          "name": "stdout",
          "text": [
            "--2021-12-02 11:32:50--  https://raw.githubusercontent.com/Data-Science-FMI/ml-from-scratch-2019/master/data/house_prices_train.csv\n",
            "Resolving raw.githubusercontent.com (raw.githubusercontent.com)... 185.199.108.133, 185.199.110.133, 185.199.111.133, ...\n",
            "Connecting to raw.githubusercontent.com (raw.githubusercontent.com)|185.199.108.133|:443... connected.\n",
            "HTTP request sent, awaiting response... 200 OK\n",
            "Length: 460676 (450K) [text/plain]\n",
            "Saving to: ‘house_prices_train.csv.1’\n",
            "\n",
            "\rhouse_prices_train.   0%[                    ]       0  --.-KB/s               \rhouse_prices_train. 100%[===================>] 449.88K  --.-KB/s    in 0.04s   \n",
            "\n",
            "2021-12-02 11:32:50 (9.96 MB/s) - ‘house_prices_train.csv.1’ saved [460676/460676]\n",
            "\n"
          ]
        }
      ]
    },
    {
      "cell_type": "markdown",
      "metadata": {
        "id": "K0z3Upgm63SB"
      },
      "source": [
        "Abbiamo il dataset, non rimane che **importarlo**.\n",
        "\n",
        "`pandas` fornisce diverse funzionalità per importare un dataset da file, a seconda del formato in cui ci viene fornito. In questo caso, il formato è `.csv`"
      ]
    },
    {
      "cell_type": "code",
      "metadata": {
        "id": "eAxgk31x6XY9"
      },
      "source": [
        ""
      ],
      "execution_count": null,
      "outputs": []
    }
  ]
}